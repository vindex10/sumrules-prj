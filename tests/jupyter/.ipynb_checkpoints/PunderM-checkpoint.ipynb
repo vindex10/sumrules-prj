{
 "cells": [
  {
   "cell_type": "code",
   "execution_count": 1,
   "metadata": {},
   "outputs": [
    {
     "name": "stdout",
     "output_type": "stream",
     "text": [
      "matplotlib.pyplot loaded as plt\n",
      "numpy loaded as np\n",
      "scipy loaded as sp\n",
      "scipy integrate loaded\n",
      "scipy special loaded\n",
      "scipy stats loaded\n"
     ]
    }
   ],
   "source": [
    "%numerics\n",
    "import sumrules.lib.legacy_analytics as alyt\n",
    "import sumrules.lib.evaluators as evs\n",
    "from sumrules.utils import parallel\n",
    "import sumrules"
   ]
  },
  {
   "cell_type": "code",
   "execution_count": 5,
   "metadata": {},
   "outputs": [],
   "source": [
    "sumrules.constants[\"eps\"] = 0.001"
   ]
  },
  {
   "cell_type": "code",
   "execution_count": 6,
   "metadata": {},
   "outputs": [],
   "source": [
    "mp = evs.McolPEvaluator(None, alyt.psiColP)\n",
    "\n",
    "mp.vectorized = True\n",
    "mp.mapper = parallel.npMap\n",
    "mp.absErr = 1e-7"
   ]
  },
  {
   "cell_type": "markdown",
   "metadata": {},
   "source": [
    "## MP0"
   ]
  },
  {
   "cell_type": "code",
   "execution_count": 8,
   "metadata": {},
   "outputs": [],
   "source": [
    "mp.MP = alyt.sqedMP0"
   ]
  },
  {
   "cell_type": "code",
   "execution_count": null,
   "metadata": {},
   "outputs": [],
   "source": [
    "def make(ax, p, m):\n",
    "    mp.CONST[\"m\"] = m\n",
    "    points = sp.linspace(sp.log(1e-2), sp.log(1e3), 80)\n",
    "    vals = sp.empty_like(points, dtype=sp.complex128)\n",
    "    for i,point in enumerate(points):\n",
    "        mp.params({\"maxP\": point})\n",
    "        vals[i] = mp.compute(p, sp.sqrt(p**2 + mp.CONST[\"m\"]**2), 0.2, 0)\n",
    "    ax.plot(points, sp.absolute(vals), \".\", label=\"p={0}, m={1}\".format(p, m))\n",
    "\n",
    "fig, ax = plt.subplots(3, 3)\n",
    "fig.set_size_inches(18, 18)\n",
    "\n",
    "masses = sp.array([1.27, 1.42, 4.2])\n",
    "momenta = sp.array([0.2, 2, 5])\n",
    "\n",
    "for numm, m in enumerate(masses):\n",
    "    for nump, p in enumerate(momenta):\n",
    "        make(ax[numm, nump], m, p)\n",
    "\n",
    "for row in ax:\n",
    "    for a in row:\n",
    "        a.set_xscale(\"log\")\n",
    "        a.legend()\n",
    "\n",
    "plt.show()"
   ]
  },
  {
   "cell_type": "markdown",
   "metadata": {},
   "source": [
    "## MP2"
   ]
  },
  {
   "cell_type": "code",
   "execution_count": null,
   "metadata": {},
   "outputs": [],
   "source": [
    "mp.MP = alyt.sqedMP2"
   ]
  },
  {
   "cell_type": "code",
   "execution_count": null,
   "metadata": {},
   "outputs": [],
   "source": [
    "def make(ax, p, m):\n",
    "    mp.CONST[\"m\"] = m\n",
    "    points = sp.linspace(sp.log(1e-2), sp.log(1e3), 80)\n",
    "    vals = sp.empty_like(points, dtype=sp.complex128)\n",
    "    for i,point in enumerate(points):\n",
    "        mp.params({\"maxP\": point})\n",
    "        vals[i] = mp.compute(p, sp.sqrt(p**2 + mp.CONST[\"m\"]**2), 0.2, 0)\n",
    "    ax.plot(points, sp.absolute(vals), \".\", label=\"p={0}, m={1}\".format(p, m))\n",
    "\n",
    "fig, ax = plt.subplots(3, 3)\n",
    "fig.set_size_inches(18, 18)\n",
    "\n",
    "masses = sp.array([1.27, 1.42, 4.2])\n",
    "momenta = sp.array([0.2, 2, 5])\n",
    "\n",
    "for numm, m in enumerate(masses):\n",
    "    for nump, p in enumerate(momenta):\n",
    "        make(ax[numm, nump], m, p)\n",
    "\n",
    "for row in ax:\n",
    "    for a in row:\n",
    "        a.set_xscale(\"log\")\n",
    "        a.legend()\n",
    "\n",
    "plt.show()"
   ]
  },
  {
   "cell_type": "code",
   "execution_count": null,
   "metadata": {},
   "outputs": [],
   "source": []
  }
 ],
 "metadata": {
  "kernelspec": {
   "display_name": "sumrules",
   "language": "python",
   "name": "sumrules"
  },
  "language_info": {
   "codemirror_mode": {
    "name": "ipython",
    "version": 3
   },
   "file_extension": ".py",
   "mimetype": "text/x-python",
   "name": "python",
   "nbconvert_exporter": "python",
   "pygments_lexer": "ipython3",
   "version": "3.5.4"
  }
 },
 "nbformat": 4,
 "nbformat_minor": 2
}
