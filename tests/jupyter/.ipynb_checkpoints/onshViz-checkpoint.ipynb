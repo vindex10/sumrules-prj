{
 "cells": [
  {
   "cell_type": "code",
   "execution_count": 14,
   "metadata": {},
   "outputs": [],
   "source": [
    "%matplotlib inline\n",
    "import scipy as sp\n",
    "from scipy import integrate, special\n",
    "import matplotlib.pyplot as plt\n",
    "from sumrules.lib.legacy_analytics import sqedMP2onsh, sqedMP2, sqedMP0onsh, sqedMP0, psiColP\n",
    "from sumrules.lib.evaluators import McolPEvaluator\n",
    "from sumrules import constants"
   ]
  },
  {
   "cell_type": "markdown",
   "metadata": {},
   "source": [
    "What is the difference between the *low-energy* and *on-shell* reduction applied to matrix elements?"
   ]
  },
  {
   "cell_type": "code",
   "execution_count": 15,
   "metadata": {},
   "outputs": [],
   "source": [
    "MP = McolPEvaluator(sqedMP2, psiColP)\n",
    "MPonsh = McolPEvaluator(sqedMP2onsh, psiColP)"
   ]
  },
  {
   "cell_type": "code",
   "execution_count": 44,
   "metadata": {},
   "outputs": [
    {
     "data": {
      "text/plain": [
       "[<matplotlib.lines.Line2D at 0x7f9fe5677588>]"
      ]
     },
     "execution_count": 44,
     "metadata": {},
     "output_type": "execute_result"
    },
    {
     "data": {
      "image/png": "[encoded data removed]",
      "text/plain": [
       "<matplotlib.figure.Figure at 0x7f9fe5677ac8>"
      ]
     },
     "metadata": {},
     "output_type": "display_data"
    }
   ],
   "source": [
    "points = 10 - sp.exp(sp.linspace(sp.log(10-1e-10), sp.log(1e-4), 50))\n",
    "points = sp.hstack((points, 10 + sp.exp(sp.linspace(sp.log(1e-4), sp.log(25), 50))))\n",
    "\n",
    "res1 = MPonsh.McolP_f(sp.vstack((points, sp.full_like(points, 0.2), sp.full_like(points, 0))), 10, 8, 0.2, 1.2)\n",
    "res1 = sp.apply_along_axis(sp.linalg.norm, -1, res1)\n",
    "\n",
    "res2 = MP.McolP_f(sp.vstack((points, sp.full_like(points, 0.2), sp.full_like(points, 0))), 10, 8, 0.2, 1.2)\n",
    "res2 = sp.apply_along_axis(sp.linalg.norm, -1, res2)\n",
    "plt.yscale(\"log\")\n",
    "plt.plot(points, res1/res2, \".\")"
   ]
  },
  {
   "cell_type": "markdown",
   "metadata": {},
   "source": [
    "From the plot above, one can conclude, that *low-energy* reduction is applicable only near $p = q$ region. But, as follows from a plot below, the peak is quite sharp, so it may be possible to integrate only around peak, and apply such an approximation."
   ]
  },
  {
   "cell_type": "code",
   "execution_count": 57,
   "metadata": {},
   "outputs": [
    {
     "data": {
      "text/plain": [
       "[<matplotlib.lines.Line2D at 0x7f9fe532cb38>]"
      ]
     },
     "execution_count": 57,
     "metadata": {},
     "output_type": "execute_result"
    },
    {
     "data": {
      "image/png": "[encoded data removed]",
      "text/plain": [
       "<matplotlib.figure.Figure at 0x7f9fe532c630>"
      ]
     },
     "metadata": {},
     "output_type": "display_data"
    }
   ],
   "source": [
    "plt.plot(points[12:85], res1[12:85], \".\")\n",
    "plt.plot(points[12:85], res2[12:85], \".\")"
   ]
  },
  {
   "cell_type": "code",
   "execution_count": null,
   "metadata": {},
   "outputs": [],
   "source": []
  }
 ],
 "metadata": {
  "kernelspec": {
   "display_name": "sumrules",
   "language": "python",
   "name": "sumrules"
  },
  "language_info": {
   "codemirror_mode": {
    "name": "ipython",
    "version": 3
   },
   "file_extension": ".py",
   "mimetype": "text/x-python",
   "name": "python",
   "nbconvert_exporter": "python",
   "pygments_lexer": "ipython3",
   "version": "3.5.4"
  }
 },
 "nbformat": 4,
 "nbformat_minor": 2
}
