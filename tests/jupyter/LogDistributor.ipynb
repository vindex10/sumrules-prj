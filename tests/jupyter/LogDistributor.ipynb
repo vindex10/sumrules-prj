{
 "cells": [
  {
   "cell_type": "code",
   "execution_count": 2,
   "metadata": {},
   "outputs": [],
   "source": [
    "import numpy as np"
   ]
  },
  {
   "cell_type": "code",
   "execution_count": 36,
   "metadata": {},
   "outputs": [
    {
     "name": "stdout",
     "output_type": "stream",
     "text": [
      "6.4516\n",
      "+\n",
      "205.689324168\n",
      "+\n",
      "295.859075832\n",
      "+\n",
      "708.47438377\n",
      "+\n",
      "1696.53728231\n",
      "+\n",
      "4062.58689969\n",
      "+\n",
      "9728.41121125\n",
      "+\n",
      "23295.990223\n",
      "-----\n",
      "40000.0\n"
     ]
    }
   ],
   "source": [
    "minS = 1.27**2*4\n",
    "maxS = 40000\n",
    "spec = np.array([[10,1], [15, 6]])\n",
    "\n",
    "tot = sum(spec[:, 0])\n",
    "\n",
    "pos = minS\n",
    "print(pos)\n",
    "for part in spec:\n",
    "    for _ in range(part[1]):\n",
    "        step = (np.exp(np.log(maxS/minS)/tot*part[0]/part[1])-1)*pos\n",
    "        print(\"+\")\n",
    "        print(step)\n",
    "        pos += step\n",
    "print(\"-----\")\n",
    "print(pos)"
   ]
  },
  {
   "cell_type": "code",
   "execution_count": null,
   "metadata": {},
   "outputs": [],
   "source": []
  }
 ],
 "metadata": {
  "kernelspec": {
   "display_name": "sumrules",
   "language": "python",
   "name": "sumrules"
  },
  "language_info": {
   "codemirror_mode": {
    "name": "ipython",
    "version": 3
   },
   "file_extension": ".py",
   "mimetype": "text/x-python",
   "name": "python",
   "nbconvert_exporter": "python",
   "pygments_lexer": "ipython3",
   "version": "3.5.4"
  }
 },
 "nbformat": 4,
 "nbformat_minor": 2
}
