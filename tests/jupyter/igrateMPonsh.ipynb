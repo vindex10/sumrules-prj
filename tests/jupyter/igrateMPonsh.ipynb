{
 "cells": [
  {
   "cell_type": "code",
   "execution_count": 1,
   "metadata": {},
   "outputs": [],
   "source": [
    "%matplotlib inline\n",
    "import scipy as sp\n",
    "from scipy import integrate, special\n",
    "import matplotlib.pyplot as plt\n",
    "from sumrules.lib.legacy_analytics import sqedMP2onsh, sqedMP2, sqedMP0onsh, sqedMP0, psiColP\n",
    "from sumrules.lib.evaluators import McolPEvaluator, McolPLogEvaluator\n",
    "from sumrules.utils.parallel import npMap\n",
    "from sumrules import constants"
   ]
  },
  {
   "cell_type": "code",
   "execution_count": 2,
   "metadata": {},
   "outputs": [],
   "source": [
    "MP = McolPEvaluator(sqedMP2, psiColP)\n",
    "MPonsh = McolPLogEvaluator(sqedMP2onsh, psiColP)"
   ]
  },
  {
   "cell_type": "code",
   "execution_count": 5,
   "metadata": {},
   "outputs": [],
   "source": [
    "MPonsh.params({\"minP\": 9.8, \"maxP\": 10.2})\n",
    "MPonsh.vectorized = True\n",
    "MPonsh.mapper = npMap\n",
    "MPonsh.absErr = 0.0001\n",
    "MPonsh.relErr = 0.01"
   ]
  },
  {
   "cell_type": "code",
   "execution_count": null,
   "metadata": {},
   "outputs": [
    {
     "name": "stdout",
     "output_type": "stream",
     "text": [
      "[[  9.8         10.2       ]\n",
      " [  0.           3.14159265]\n",
      " [  0.           6.28318531]]\n"
     ]
    }
   ],
   "source": [
    "MPonsh.compute(10, 8, 0.2, 1.2)"
   ]
  },
  {
   "cell_type": "code",
   "execution_count": null,
   "metadata": {},
   "outputs": [],
   "source": []
  }
 ],
 "metadata": {
  "kernelspec": {
   "display_name": "sumrules",
   "language": "python",
   "name": "sumrules"
  },
  "language_info": {
   "codemirror_mode": {
    "name": "ipython",
    "version": 3
   },
   "file_extension": ".py",
   "mimetype": "text/x-python",
   "name": "python",
   "nbconvert_exporter": "python",
   "pygments_lexer": "ipython3",
   "version": "3.5.4"
  }
 },
 "nbformat": 4,
 "nbformat_minor": 2
}
